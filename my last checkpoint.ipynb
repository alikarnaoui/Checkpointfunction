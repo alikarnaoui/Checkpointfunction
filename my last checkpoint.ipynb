{
 "cells": [
  {
   "cell_type": "code",
   "execution_count": 6,
   "id": "f6294808",
   "metadata": {},
   "outputs": [
    {
     "name": "stdout",
     "output_type": "stream",
     "text": [
      "['F', 'L', 'A', 'M', 'E', 'S']\t\tE\n",
      "['F', 'L', 'A', 'M', 'S']\t\tM\n",
      "['F', 'L', 'A', 'S']\t\tS\n",
      "['F', 'L', 'A']\t\tL\n",
      "['F', 'A']\t\tA\n",
      "F\n"
     ]
    }
   ],
   "source": [
    "name1 = \"Ajay\"\n",
    "name2 = \"Priya\"\n",
    "\n",
    "name1 = name1.upper()\n",
    "name2 = name2.upper()\n",
    "\n",
    "\n",
    "name1 = list(name1)\n",
    "name2 = list(name2)\n",
    "\n",
    "\n",
    "for e in name1:\n",
    "    if e in name2:\n",
    "        name1.remove(e)\n",
    "        name2.remove(e)\n",
    "        \n",
    "        \n",
    "N = len(name1+name2)\n",
    "\n",
    "flames = list(\"FLAMES\")\n",
    "i = 0\n",
    "while len(flames) > 1:\n",
    "    print(flames, end='\\t\\t')\n",
    "    for j in range(1, N):\n",
    "        if i >= len(flames):\n",
    "            i = 0\n",
    "        i += 1\n",
    "        \n",
    "    print(flames[i])\n",
    "    del flames[i]\n",
    "    \n",
    "\n",
    "flames = flames[0]\n",
    "\n",
    "print(flames)"
   ]
  },
  {
   "cell_type": "code",
   "execution_count": 10,
   "id": "52dddf1a",
   "metadata": {},
   "outputs": [
    {
     "name": "stdout",
     "output_type": "stream",
     "text": [
      "Fire in the hole!!\n"
     ]
    }
   ],
   "source": [
    "def countdown(t): \n",
    "    \"\"\"\n",
    "    Countdown Timer\n",
    "    \"\"\"\n",
    "    while t:\n",
    "        # Divmod takes only two arguments so\n",
    "        # you'll need to do this for each time\n",
    "        # unit you need to add\n",
    "        mins, secs = divmod(t, 60) \n",
    "        hours, mins = divmod(mins, 60)\n",
    "        days, hours = divmod(hours, 24)\n",
    "        timer = '{:02d}:{:02d}:{:02d}:{:02d}'.format( days, hours, mins, secs) \n",
    "        print(timer, end=\"\\r\") \n",
    "        time.sleep(1) \n",
    "        t -= 1\n",
    "\n",
    "    print('Fire in the hole!!') \n",
    "\n",
    "t = 10\n",
    "\n",
    "\n",
    "countdown(t)"
   ]
  },
  {
   "cell_type": "code",
   "execution_count": null,
   "id": "8cd8f3ab",
   "metadata": {},
   "outputs": [],
   "source": []
  }
 ],
 "metadata": {
  "kernelspec": {
   "display_name": "Python 3 (ipykernel)",
   "language": "python",
   "name": "python3"
  },
  "language_info": {
   "codemirror_mode": {
    "name": "ipython",
    "version": 3
   },
   "file_extension": ".py",
   "mimetype": "text/x-python",
   "name": "python",
   "nbconvert_exporter": "python",
   "pygments_lexer": "ipython3",
   "version": "3.9.12"
  }
 },
 "nbformat": 4,
 "nbformat_minor": 5
}
