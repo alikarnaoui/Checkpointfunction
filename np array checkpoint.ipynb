{
 "cells": [
  {
   "cell_type": "code",
   "execution_count": 11,
   "id": "77de5df6",
   "metadata": {},
   "outputs": [],
   "source": [
    "import numpy as np"
   ]
  },
  {
   "cell_type": "code",
   "execution_count": 16,
   "id": "7fdf72ad",
   "metadata": {},
   "outputs": [
    {
     "name": "stdout",
     "output_type": "stream",
     "text": [
      "[[7, 5, 8, 8, 7]]\n"
     ]
    }
   ],
   "source": [
    "a=np.random.randint(2, 10, size=(1,5))\n",
    "arlist = a.tolist()\n",
    "print(arlist)"
   ]
  },
  {
   "cell_type": "code",
   "execution_count": 18,
   "id": "c6caaa21",
   "metadata": {},
   "outputs": [
    {
     "name": "stdout",
     "output_type": "stream",
     "text": [
      "4\n"
     ]
    }
   ],
   "source": [
    "m = np.arange(6).reshape(2,3)\n",
    "result =  np.trace(m)\n",
    "print(result)"
   ]
  },
  {
   "cell_type": "code",
   "execution_count": 20,
   "id": "e921980a",
   "metadata": {},
   "outputs": [
    {
     "name": "stdout",
     "output_type": "stream",
     "text": [
      "Values bigger than 10 = [20 20 30 40]\n",
      "Their indices are  (array([0, 1, 1, 1], dtype=int64), array([2, 0, 1, 2], dtype=int64))\n"
     ]
    }
   ],
   "source": [
    "import numpy as np\n",
    "x = np.array([[0, 10, 20], [20, 30, 40]])\n",
    "\n",
    "print(\"Values bigger than 10 =\", x[x>10])\n",
    "print(\"Their indices are \", np.nonzero(x > 10))\n"
   ]
  },
  {
   "cell_type": "code",
   "execution_count": 31,
   "id": "bc52d5f6",
   "metadata": {},
   "outputs": [
    {
     "name": "stdout",
     "output_type": "stream",
     "text": [
      "[11 12 18  4 16]\n",
      "[ 4  5  7  3 16]\n",
      "the result:\n",
      "[15 17 25  7 32]\n"
     ]
    }
   ],
   "source": [
    "a,b=np.random.randint(1,19, size=(2,5))\n",
    "print(a)\n",
    "print(b)\n",
    "c= a+b\n",
    "print(\"the result:\")\n",
    "print(c)"
   ]
  },
  {
   "cell_type": "code",
   "execution_count": 38,
   "id": "95ab1dde",
   "metadata": {},
   "outputs": [
    {
     "name": "stdout",
     "output_type": "stream",
     "text": [
      "[[ 5.8 -1.2  1.8 -4.2 -2.2]\n",
      " [-6.6  5.4  3.4  0.4 -2.6]]\n"
     ]
    }
   ],
   "source": [
    "x=np.random.randint(1,15,size=(2,5))\n",
    "y=x - x.mean(axis=1, keepdims=True)\n",
    "\n",
    "print(y)"
   ]
  },
  {
   "cell_type": "code",
   "execution_count": null,
   "id": "d8901d97",
   "metadata": {},
   "outputs": [],
   "source": []
  }
 ],
 "metadata": {
  "kernelspec": {
   "display_name": "Python 3 (ipykernel)",
   "language": "python",
   "name": "python3"
  },
  "language_info": {
   "codemirror_mode": {
    "name": "ipython",
    "version": 3
   },
   "file_extension": ".py",
   "mimetype": "text/x-python",
   "name": "python",
   "nbconvert_exporter": "python",
   "pygments_lexer": "ipython3",
   "version": "3.9.12"
  }
 },
 "nbformat": 4,
 "nbformat_minor": 5
}
