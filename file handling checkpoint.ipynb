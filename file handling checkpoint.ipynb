{
 "cells": [
  {
   "cell_type": "code",
   "execution_count": 21,
   "id": "e16b38d6",
   "metadata": {},
   "outputs": [
    {
     "name": "stdout",
     "output_type": "stream",
     "text": [
      "['Python supports multiple programming paradigms, including object-oriented, imperative and functional programming or procedural styles.\\n', 'It features a dynamic type system and automatic memory management and has a large and comprehensive standard library.\\n', 'The best way we learn anything is by practice and exercise questions.\\n']\n"
     ]
    }
   ],
   "source": [
    "def firstline(n,f):\n",
    "    for index,line in enumerate(f.readlines()):\n",
    "        print(line)\n",
    "        if index == n:\n",
    "            break\n",
    "            \n",
    "def lastline(n,f):\n",
    "    lines =  f.readlines()\n",
    "    print(lines[n:7])\n",
    "        \n",
    "with open(\"python.txt\",'r',encoding=\"utf-8\") as f:\n",
    "    lastline(4,f)"
   ]
  },
  {
   "cell_type": "code",
   "execution_count": 24,
   "id": "890f6dca",
   "metadata": {},
   "outputs": [
    {
     "name": "stdout",
     "output_type": "stream",
     "text": [
      "What is Python language?                                                \n",
      "\n",
      "Python is a widely used high-level, general-purpose, interpreted, dynamic programming language.\n",
      "\n",
      "Its design philosophy emphasizes code readability, and its syntax allows programmers to express concepts in fewer lines of code than possible \n",
      "\n",
      "in languages such as C++ or Java. \n",
      "\n",
      "Python supports multiple programming paradigms, including object-oriented, imperative and functional programming or procedural styles.\n",
      "\n"
     ]
    }
   ],
   "source": [
    "\n",
    "with open(\"python.txt\",'r',encoding=\"utf-8\") as f:\n",
    "    firstline(4,f)"
   ]
  },
  {
   "cell_type": "code",
   "execution_count": 25,
   "id": "c141ea0c",
   "metadata": {},
   "outputs": [
    {
     "name": "stdout",
     "output_type": "stream",
     "text": [
      "146\n"
     ]
    }
   ],
   "source": [
    "def count_words(filepath):\n",
    "    with open(\"python.txt\",'r',encoding=\"utf-8\") as f:\n",
    "        data = f.read()\n",
    "        data.replace(\",\", \" \")\n",
    "        return len(data.split(\" \"))\n",
    "print(count_words(\"wors.txt\"))\n",
    "\n"
   ]
  }
 ],
 "metadata": {
  "kernelspec": {
   "display_name": "Python 3 (ipykernel)",
   "language": "python",
   "name": "python3"
  },
  "language_info": {
   "codemirror_mode": {
    "name": "ipython",
    "version": 3
   },
   "file_extension": ".py",
   "mimetype": "text/x-python",
   "name": "python",
   "nbconvert_exporter": "python",
   "pygments_lexer": "ipython3",
   "version": "3.9.12"
  }
 },
 "nbformat": 4,
 "nbformat_minor": 5
}
