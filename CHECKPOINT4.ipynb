{
 "cells": [
  {
   "cell_type": "markdown",
   "id": "92b8f3ac",
   "metadata": {},
   "source": [
    "## question1"
   ]
  },
  {
   "cell_type": "code",
   "execution_count": 37,
   "id": "a603bdd2",
   "metadata": {},
   "outputs": [],
   "source": [
    "class Point3d:\n",
    "    def __init__(self,x,y,z):\n",
    "        self.x=x\n",
    "        self.y=y\n",
    "        self.z=z\n",
    "    def __repr__(self):\n",
    "        return str(self.x)+\" \"+str(self.y)+\" \"+str(self.z) "
   ]
  },
  {
   "cell_type": "code",
   "execution_count": 38,
   "id": "372b3205",
   "metadata": {},
   "outputs": [],
   "source": [
    "my_point=Point3d(1,2,3)"
   ]
  },
  {
   "cell_type": "code",
   "execution_count": 39,
   "id": "cd0f9ae9",
   "metadata": {},
   "outputs": [
    {
     "name": "stdout",
     "output_type": "stream",
     "text": [
      "1 2 3\n"
     ]
    }
   ],
   "source": [
    "print(my_point)"
   ]
  },
  {
   "cell_type": "markdown",
   "id": "e573a7cb",
   "metadata": {},
   "source": [
    "## question2"
   ]
  },
  {
   "cell_type": "code",
   "execution_count": 48,
   "id": "23fca39b",
   "metadata": {},
   "outputs": [],
   "source": [
    "class Rectangle:\n",
    "    def __init__(self,l,w):\n",
    "        self.width=w\n",
    "        self.length=l\n",
    "    \n",
    "    def __repr__(self):\n",
    "        return\n",
    "        \n",
    "    def perimeter(self):\n",
    "        return 2*(self.width+self.length)\n",
    "    def area(self):\n",
    "        return self.width*self.length\n",
    "    "
   ]
  },
  {
   "cell_type": "code",
   "execution_count": 53,
   "id": "2f1fdf2d",
   "metadata": {},
   "outputs": [
    {
     "data": {
      "text/plain": [
       "12"
      ]
     },
     "execution_count": 53,
     "metadata": {},
     "output_type": "execute_result"
    }
   ],
   "source": [
    "myrectangle=Rectangle(3,4)\n",
    "\n",
    "myrectangle.area()\n",
    "\n"
   ]
  },
  {
   "cell_type": "code",
   "execution_count": 52,
   "id": "7adc52c2",
   "metadata": {},
   "outputs": [
    {
     "data": {
      "text/plain": [
       "14"
      ]
     },
     "execution_count": 52,
     "metadata": {},
     "output_type": "execute_result"
    }
   ],
   "source": [
    "myrectangle.perimeter()"
   ]
  },
  {
   "cell_type": "markdown",
   "id": "bdd37b15",
   "metadata": {},
   "source": [
    "## question3"
   ]
  },
  {
   "cell_type": "code",
   "execution_count": 36,
   "id": "6f817b0a",
   "metadata": {},
   "outputs": [
    {
     "name": "stdout",
     "output_type": "stream",
     "text": [
      "the point is outside\n",
      "radieus=10\n"
     ]
    }
   ],
   "source": [
    "import numpy as np\n",
    "class Circle:\n",
    "    def __init__(self,radieus,center):\n",
    "        self.r=radieus\n",
    "        self.o=center\n",
    "        \n",
    "    def __str__(self):\n",
    "        return \"radieus=\"+str(self.r)\n",
    "        \n",
    "    def perimeter(self):\n",
    "        \n",
    "        return self.r*2*np.pi\n",
    "    \n",
    "    def area(self):\n",
    "        \n",
    "        return self.r*self.r*np.pi\n",
    "    \n",
    "        \n",
    "    def inside(self):\n",
    "        if self.area()<self.r:\n",
    "            print(\"the point is inside\")\n",
    "    def intersect(self):\n",
    "        if self.perimeter==self.r:\n",
    "            print(\"the point is intersecting\")\n",
    "    def outside(self):\n",
    "        if self.area()>self.r:\n",
    "            print(\"the point is outside\")\n",
    "        \n",
    "circle = Circle(10,0)\n",
    "circle.intersect()\n",
    "circle.inside()\n",
    "circle.outside()\n",
    "print(circle)"
   ]
  },
  {
   "cell_type": "code",
   "execution_count": null,
   "id": "09903a11",
   "metadata": {},
   "outputs": [],
   "source": []
  }
 ],
 "metadata": {
  "kernelspec": {
   "display_name": "Python 3 (ipykernel)",
   "language": "python",
   "name": "python3"
  },
  "language_info": {
   "codemirror_mode": {
    "name": "ipython",
    "version": 3
   },
   "file_extension": ".py",
   "mimetype": "text/x-python",
   "name": "python",
   "nbconvert_exporter": "python",
   "pygments_lexer": "ipython3",
   "version": "3.9.12"
  }
 },
 "nbformat": 4,
 "nbformat_minor": 5
}
