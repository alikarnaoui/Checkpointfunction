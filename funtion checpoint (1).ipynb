{
 "cells": [
  {
   "cell_type": "code",
   "execution_count": null,
   "id": "b166a96f",
   "metadata": {},
   "outputs": [],
   "source": [
    "def number (n1,n2,n):\n",
    "    \n",
    "    if n1>=n2 or n1>=n:\n",
    "        biggest = n1\n",
    "    elif n2>=n1 or n2>=n:\n",
    "        biggest = n2\n",
    "    else:\n",
    "        biggest = n\n",
    "    return biggest\n",
    "\n",
    "print(number(20,35,19))"
   ]
  },
  {
   "cell_type": "code",
   "execution_count": 1,
   "id": "e7735f8a",
   "metadata": {},
   "outputs": [
    {
     "name": "stdout",
     "output_type": "stream",
     "text": [
      "addition and subtraction of number is:  [50, 30]\n"
     ]
    }
   ],
   "source": [
    "def calculation(x,y):\n",
    "    addition = x+y\n",
    "    subtraction = x-y\n",
    "    return addition,subtraction\n",
    "output = list(calculation(40,10))\n",
    "print(\"addition and subtraction of number is: \",output)"
   ]
  },
  {
   "cell_type": "code",
   "execution_count": 1,
   "id": "e9f11c91",
   "metadata": {},
   "outputs": [
    {
     "name": "stdout",
     "output_type": "stream",
     "text": [
      "9\n",
      "24\n"
     ]
    }
   ],
   "source": [
    "def listsum(l):\n",
    "    output=0\n",
    "    for i in l:\n",
    "        output += i\n",
    "    return output\n",
    "\n",
    "\n",
    "print(listsum([2,3,4]))\n",
    "\n",
    "def listmul(l):\n",
    "    output=1\n",
    "    for i in l:\n",
    "        output *= i\n",
    "    return output\n",
    "\n",
    "\n",
    "print(listmul([2,3,4]))"
   ]
  },
  {
   "cell_type": "code",
   "execution_count": 2,
   "id": "09cc5790",
   "metadata": {},
   "outputs": [
    {
     "name": "stdout",
     "output_type": "stream",
     "text": [
      "21 0\n",
      "14 1\n",
      "44 2\n",
      "35 3\n",
      "45 4\n",
      "[21, 35, 45]\n",
      "[24, 14, 44, 11]\n",
      "33075\n",
      "93\n"
     ]
    }
   ],
   "source": [
    "my_list = [21,24,14, 44, 35, 11,45]\n",
    "result = []\n",
    "def listmul(l):\n",
    "    output=1\n",
    "    for i in l:\n",
    "        output *= i\n",
    "    return output\n",
    "\n",
    "def listsum(l):\n",
    "    output=0\n",
    "    for i in l:\n",
    "        output += i\n",
    "    return output\n",
    "\n",
    "\n",
    "for val,item in enumerate(my_list):\n",
    "    print(item, val)\n",
    "    if item%2 != 0:\n",
    "        my_list.remove(item)\n",
    "        result.append(item)\n",
    "print(result)    \n",
    "print(my_list)  \n",
    "\n",
    "print(listmul(result))\n",
    "print(listsum(my_list))"
   ]
  },
  {
   "cell_type": "code",
   "execution_count": 1,
   "id": "e685deb0",
   "metadata": {},
   "outputs": [
    {
     "name": "stdout",
     "output_type": "stream",
     "text": [
      "['black', 'green', 'red', 'white', 'yellow']\n"
     ]
    }
   ],
   "source": [
    "Sample_items= [\"green\", \"red\", \"yellow\", \"black\", \"white\"]\n",
    "Sample_items.sort()\n",
    "print(Sample_items)"
   ]
  },
  {
   "cell_type": "code",
   "execution_count": null,
   "id": "d9901acc",
   "metadata": {},
   "outputs": [],
   "source": [
    "import numpy as np"
   ]
  },
  {
   "cell_type": "code",
   "execution_count": 7,
   "id": "46d9ae6b",
   "metadata": {},
   "outputs": [
    {
     "name": "stdout",
     "output_type": "stream",
     "text": [
      "333833933\n"
     ]
    }
   ],
   "source": [
    "C = 50\n",
    "\n",
    "H = 30\n",
    "\n",
    "D = 100150180\n",
    "Q = int((2 * C * D)/H)\n",
    "print(Q)"
   ]
  },
  {
   "cell_type": "markdown",
   "id": "7661a38e",
   "metadata": {},
   "source": [
    "# Write a function that calculates and prints the value according to the given formula: Q = square root of [(2 * C * D)/H]. Following are the fixed values of C and H: C is 50, and H is 30. D is the variable whose values should be input to your program in a comma-separated sequence. Example: Let us assume the following comma-separated input sequence is given to the function: 100,150,180. \n",
    "\n",
    "Expected result: 18,22,24 "
   ]
  },
  {
   "cell_type": "code",
   "execution_count": 4,
   "id": "897a459d",
   "metadata": {},
   "outputs": [],
   "source": [
    "import math"
   ]
  },
  {
   "cell_type": "code",
   "execution_count": 5,
   "id": "91693d83",
   "metadata": {},
   "outputs": [
    {
     "name": "stdout",
     "output_type": "stream",
     "text": [
      "Provide D: 100150180\n",
      "[18271]\n"
     ]
    }
   ],
   "source": [
    "numbers = input(\"Provide D: \")\n",
    "numbers = numbers.split(',')\n",
    "\n",
    "\n",
    "\n",
    "result_list = []\n",
    "for D in numbers:\n",
    "    Q = round(math.sqrt(2 * 50 * int(D) / 30))\n",
    "    result_list.append(Q)\n",
    "\n",
    "print(result_list)"
   ]
  },
  {
   "cell_type": "code",
   "execution_count": null,
   "id": "8c61e204",
   "metadata": {},
   "outputs": [],
   "source": []
  }
 ],
 "metadata": {
  "kernelspec": {
   "display_name": "Python 3 (ipykernel)",
   "language": "python",
   "name": "python3"
  },
  "language_info": {
   "codemirror_mode": {
    "name": "ipython",
    "version": 3
   },
   "file_extension": ".py",
   "mimetype": "text/x-python",
   "name": "python",
   "nbconvert_exporter": "python",
   "pygments_lexer": "ipython3",
   "version": "3.9.12"
  }
 },
 "nbformat": 4,
 "nbformat_minor": 5
}
