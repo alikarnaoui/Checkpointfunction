{
 "cells": [
  {
   "cell_type": "code",
   "execution_count": 1,
   "id": "2a1e3446",
   "metadata": {},
   "outputs": [
    {
     "name": "stdout",
     "output_type": "stream",
     "text": [
      "False\n",
      "True\n"
     ]
    }
   ],
   "source": [
    "def binary_search(item_list,item):\n",
    "    first = 0\n",
    "    last = len(item_list)-1\n",
    "    found = False\n",
    "    while( first<=last and not found):\n",
    "        mid = (first + last)//2\n",
    "        if item_list[mid] == item :\n",
    "            found = True\n",
    "        else:\n",
    "            if item < item_list[mid]:\n",
    "                last = mid - 1\n",
    "            else:\n",
    "                first = mid + 1\t\n",
    "    return found\n",
    "\n",
    "print(binary_search([1,2,3,5,8], 6))\n",
    "print(binary_search([1,2,3,5,8], 5))\n"
   ]
  },
  {
   "cell_type": "code",
   "execution_count": 2,
   "id": "f750c501",
   "metadata": {},
   "outputs": [
    {
     "name": "stdout",
     "output_type": "stream",
     "text": [
      "81\n"
     ]
    }
   ],
   "source": [
    "def power(a,b):\n",
    "    if b==0:\n",
    "        return 1\n",
    "    elif a==0:\n",
    "        return 0\n",
    "    elif b==1:\n",
    "        return a\n",
    "    else:\n",
    "        return a*power(a,b-1)\n",
    "\n",
    "print(power(3,4))"
   ]
  },
  {
   "cell_type": "code",
   "execution_count": 6,
   "id": "8cc951f2",
   "metadata": {},
   "outputs": [
    {
     "name": "stdout",
     "output_type": "stream",
     "text": [
      "[13, 22, 29, 37, 46, 49, 52, 56, 71]\n"
     ]
    }
   ],
   "source": [
    "def bubbleSort(nlist):\n",
    "    for passnum in range(len(nlist)-1,0,-1):\n",
    "        for i in range(passnum):\n",
    "            if nlist[i]>nlist[i+1]:\n",
    "                temp = nlist[i]\n",
    "                nlist[i] = nlist[i+1]\n",
    "                nlist[i+1] = temp\n",
    "\n",
    "nlist = [29,13,22,37,52,49,46,71,56]\n",
    "bubbleSort(nlist)\n",
    "print(nlist)"
   ]
  },
  {
   "cell_type": "code",
   "execution_count": 7,
   "id": "c72afbfb",
   "metadata": {},
   "outputs": [
    {
     "name": "stdout",
     "output_type": "stream",
     "text": [
      "[13, 22, 29, 37, 46, 49, 52, 56, 71]\n"
     ]
    }
   ],
   "source": [
    "def mergeSort(nlist):\n",
    "    if len(nlist)>1:\n",
    "        mid = len(nlist)//2\n",
    "        lefthalf = nlist[:mid]\n",
    "        righthalf = nlist[mid:]\n",
    "\n",
    "        mergeSort(lefthalf)\n",
    "        mergeSort(righthalf)\n",
    "        i=j=k=0       \n",
    "        while i < len(lefthalf) and j < len(righthalf):\n",
    "            if lefthalf[i] < righthalf[j]:\n",
    "                nlist[k]=lefthalf[i]\n",
    "                i=i+1\n",
    "            else:\n",
    "                nlist[k]=righthalf[j]\n",
    "                j=j+1\n",
    "            k=k+1\n",
    "\n",
    "        while i < len(lefthalf):\n",
    "            nlist[k]=lefthalf[i]\n",
    "            i=i+1\n",
    "            k=k+1\n",
    "\n",
    "        while j < len(righthalf):\n",
    "            nlist[k]=righthalf[j]\n",
    "            j=j+1\n",
    "            k=k+1\n",
    "\n",
    "nlist = [29,13,22,37,52,49,46,71,56]\n",
    "mergeSort(nlist)\n",
    "print(nlist)"
   ]
  },
  {
   "cell_type": "code",
   "execution_count": 15,
   "id": "d59f1db3",
   "metadata": {},
   "outputs": [
    {
     "name": "stdout",
     "output_type": "stream",
     "text": [
      "[13, 22, 29, 37, 46, 49, 52, 56, 71]\n"
     ]
    }
   ],
   "source": [
    "def partition(array, start, end):\n",
    "    pivot = array[start]\n",
    "    low = start + 1\n",
    "    high = end\n",
    "    while True:\n",
    "        while low <= high and array[high] >= pivot:\n",
    "            high = high - 1\n",
    "        while low <= high and array[low] <= pivot:\n",
    "            low = low + 1\n",
    "        if low <= high:\n",
    "            array[low], array[high] = array[high], array[low]\n",
    "        else:\n",
    "            break\n",
    "\n",
    "    array[start], array[high] = array[high], array[start]\n",
    "\n",
    "    return high\n",
    "\n",
    "\n",
    "def quick_sort(array, start, end):\n",
    "    if start >= end:\n",
    "        return\n",
    "\n",
    "    p = partition(array, start, end)\n",
    "    quick_sort(array, start, p-1)\n",
    "    quick_sort(array, p+1, end)\n",
    "    \n",
    "    \n",
    "array =[29,13,22,37,52,49,46,71,56]\n",
    "quick_sort(array, 0, len(array) - 1)\n",
    "print(array)"
   ]
  },
  {
   "cell_type": "code",
   "execution_count": null,
   "id": "c5eac6ad",
   "metadata": {},
   "outputs": [],
   "source": []
  }
 ],
 "metadata": {
  "kernelspec": {
   "display_name": "Python 3 (ipykernel)",
   "language": "python",
   "name": "python3"
  },
  "language_info": {
   "codemirror_mode": {
    "name": "ipython",
    "version": 3
   },
   "file_extension": ".py",
   "mimetype": "text/x-python",
   "name": "python",
   "nbconvert_exporter": "python",
   "pygments_lexer": "ipython3",
   "version": "3.9.12"
  }
 },
 "nbformat": 4,
 "nbformat_minor": 5
}
